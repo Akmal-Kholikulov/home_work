{
 "cells": [
  {
   "cell_type": "code",
   "execution_count": 1,
   "id": "7160db61",
   "metadata": {},
   "outputs": [],
   "source": [
    "import findspark\n",
    "\n",
    "findspark.init()"
   ]
  },
  {
   "cell_type": "code",
   "execution_count": 6,
   "id": "14a56dd6",
   "metadata": {},
   "outputs": [
    {
     "name": "stdout",
     "output_type": "stream",
     "text": [
      "+-----+\n",
      "| HW_2|\n",
      "+-----+\n",
      "|spark|\n",
      "+-----+\n",
      "\n"
     ]
    }
   ],
   "source": [
    "import pyspark\n",
    "\n",
    "from pyspark.sql import SparkSession\n",
    "\n",
    "spark = SparkSession.builder.getOrCreate()\n",
    "\n",
    "df = spark.sql(\"select 'spark' as HW_2 \")\n",
    "\n",
    "df.show()"
   ]
  },
  {
   "cell_type": "code",
   "execution_count": 3,
   "id": "7c6fead2",
   "metadata": {},
   "outputs": [],
   "source": [
    "from pyspark.sql import SparkSession"
   ]
  },
  {
   "cell_type": "code",
   "execution_count": 4,
   "id": "b2df2cb9",
   "metadata": {},
   "outputs": [],
   "source": [
    "spark = SparkSession.builder.appName('Practice').getOrCreate()"
   ]
  },
  {
   "cell_type": "code",
   "execution_count": 5,
   "id": "ab45f4e0",
   "metadata": {},
   "outputs": [
    {
     "data": {
      "text/html": [
       "\n",
       "            <div>\n",
       "                <p><b>SparkSession - hive</b></p>\n",
       "                \n",
       "        <div>\n",
       "            <p><b>SparkContext</b></p>\n",
       "\n",
       "            <p><a href=\"http://192.168.0.101:4040\">Spark UI</a></p>\n",
       "\n",
       "            <dl>\n",
       "              <dt>Version</dt>\n",
       "                <dd><code>v3.2.1</code></dd>\n",
       "              <dt>Master</dt>\n",
       "                <dd><code>local[*]</code></dd>\n",
       "              <dt>AppName</dt>\n",
       "                <dd><code>PySparkShell</code></dd>\n",
       "            </dl>\n",
       "        </div>\n",
       "        \n",
       "            </div>\n",
       "        "
      ],
      "text/plain": [
       "<pyspark.sql.session.SparkSession at 0x1c0b132bb80>"
      ]
     },
     "execution_count": 5,
     "metadata": {},
     "output_type": "execute_result"
    }
   ],
   "source": [
    "spark"
   ]
  },
  {
   "cell_type": "code",
   "execution_count": 60,
   "id": "ac378c67",
   "metadata": {},
   "outputs": [
    {
     "name": "stdout",
     "output_type": "stream",
     "text": [
      "0            Utilitatis causa amicitia est quaesita.\\n\n",
      "1    Lorem ipsum dolor sit amet, consectetur adipis...\n",
      "2                                                   \\n\n",
      "3    Quamquam id quidem licebit iis existimare, qui...\n",
      "dtype: object\n"
     ]
    },
    {
     "data": {
      "text/html": [
       "<div>\n",
       "<style scoped>\n",
       "    .dataframe tbody tr th:only-of-type {\n",
       "        vertical-align: middle;\n",
       "    }\n",
       "\n",
       "    .dataframe tbody tr th {\n",
       "        vertical-align: top;\n",
       "    }\n",
       "\n",
       "    .dataframe thead th {\n",
       "        text-align: right;\n",
       "    }\n",
       "</style>\n",
       "<table border=\"1\" class=\"dataframe\">\n",
       "  <thead>\n",
       "    <tr style=\"text-align: right;\">\n",
       "      <th></th>\n",
       "      <th>0</th>\n",
       "      <th>1</th>\n",
       "      <th>2</th>\n",
       "      <th>3</th>\n",
       "      <th>4</th>\n",
       "      <th>5</th>\n",
       "      <th>6</th>\n",
       "      <th>7</th>\n",
       "      <th>8</th>\n",
       "      <th>9</th>\n",
       "      <th>...</th>\n",
       "      <th>38</th>\n",
       "      <th>39</th>\n",
       "      <th>40</th>\n",
       "      <th>41</th>\n",
       "      <th>42</th>\n",
       "      <th>43</th>\n",
       "      <th>44</th>\n",
       "      <th>45</th>\n",
       "      <th>46</th>\n",
       "      <th>47</th>\n",
       "    </tr>\n",
       "  </thead>\n",
       "  <tbody>\n",
       "    <tr>\n",
       "      <th>0</th>\n",
       "      <td>Utilitatis</td>\n",
       "      <td>causa</td>\n",
       "      <td>amicitia</td>\n",
       "      <td>est</td>\n",
       "      <td>quaesita.</td>\n",
       "      <td>None</td>\n",
       "      <td>None</td>\n",
       "      <td>None</td>\n",
       "      <td>None</td>\n",
       "      <td>None</td>\n",
       "      <td>...</td>\n",
       "      <td>None</td>\n",
       "      <td>None</td>\n",
       "      <td>None</td>\n",
       "      <td>None</td>\n",
       "      <td>None</td>\n",
       "      <td>None</td>\n",
       "      <td>None</td>\n",
       "      <td>None</td>\n",
       "      <td>None</td>\n",
       "      <td>None</td>\n",
       "    </tr>\n",
       "    <tr>\n",
       "      <th>1</th>\n",
       "      <td>Lorem</td>\n",
       "      <td>ipsum</td>\n",
       "      <td>dolor</td>\n",
       "      <td>sit</td>\n",
       "      <td>amet,</td>\n",
       "      <td>consectetur</td>\n",
       "      <td>adipiscing</td>\n",
       "      <td>elit.</td>\n",
       "      <td>Collatio</td>\n",
       "      <td>igitur</td>\n",
       "      <td>...</td>\n",
       "      <td>Si</td>\n",
       "      <td>quidem,</td>\n",
       "      <td>inquit,</td>\n",
       "      <td>tollerem,</td>\n",
       "      <td>sed</td>\n",
       "      <td>relinquo.</td>\n",
       "      <td>An</td>\n",
       "      <td>nisi</td>\n",
       "      <td>populari</td>\n",
       "      <td>fama?</td>\n",
       "    </tr>\n",
       "    <tr>\n",
       "      <th>2</th>\n",
       "      <td>None</td>\n",
       "      <td>None</td>\n",
       "      <td>None</td>\n",
       "      <td>None</td>\n",
       "      <td>None</td>\n",
       "      <td>None</td>\n",
       "      <td>None</td>\n",
       "      <td>None</td>\n",
       "      <td>None</td>\n",
       "      <td>None</td>\n",
       "      <td>...</td>\n",
       "      <td>None</td>\n",
       "      <td>None</td>\n",
       "      <td>None</td>\n",
       "      <td>None</td>\n",
       "      <td>None</td>\n",
       "      <td>None</td>\n",
       "      <td>None</td>\n",
       "      <td>None</td>\n",
       "      <td>None</td>\n",
       "      <td>None</td>\n",
       "    </tr>\n",
       "    <tr>\n",
       "      <th>3</th>\n",
       "      <td>Quamquam</td>\n",
       "      <td>id</td>\n",
       "      <td>quidem</td>\n",
       "      <td>licebit</td>\n",
       "      <td>iis</td>\n",
       "      <td>existimare,</td>\n",
       "      <td>qui</td>\n",
       "      <td>legerint.</td>\n",
       "      <td>Summum</td>\n",
       "      <td>a</td>\n",
       "      <td>...</td>\n",
       "      <td>None</td>\n",
       "      <td>None</td>\n",
       "      <td>None</td>\n",
       "      <td>None</td>\n",
       "      <td>None</td>\n",
       "      <td>None</td>\n",
       "      <td>None</td>\n",
       "      <td>None</td>\n",
       "      <td>None</td>\n",
       "      <td>None</td>\n",
       "    </tr>\n",
       "  </tbody>\n",
       "</table>\n",
       "<p>4 rows × 48 columns</p>\n",
       "</div>"
      ],
      "text/plain": [
       "           0      1         2        3          4            5           6   \\\n",
       "0  Utilitatis  causa  amicitia      est  quaesita.         None        None   \n",
       "1       Lorem  ipsum     dolor      sit      amet,  consectetur  adipiscing   \n",
       "2        None   None      None     None       None         None        None   \n",
       "3    Quamquam     id    quidem  licebit        iis  existimare,         qui   \n",
       "\n",
       "          7         8       9   ...    38       39       40         41    42  \\\n",
       "0       None      None    None  ...  None     None     None       None  None   \n",
       "1      elit.  Collatio  igitur  ...    Si  quidem,  inquit,  tollerem,   sed   \n",
       "2       None      None    None  ...  None     None     None       None  None   \n",
       "3  legerint.    Summum       a  ...  None     None     None       None  None   \n",
       "\n",
       "          43    44    45        46     47  \n",
       "0       None  None  None      None   None  \n",
       "1  relinquo.    An  nisi  populari  fama?  \n",
       "2       None  None  None      None   None  \n",
       "3       None  None  None      None   None  \n",
       "\n",
       "[4 rows x 48 columns]"
      ]
     },
     "execution_count": 60,
     "metadata": {},
     "output_type": "execute_result"
    }
   ],
   "source": [
    "import pandas as pd\n",
    "import numpy as np\n",
    "file1 = open('C:/Users/koush/HSE/Research/WordCountHW/sample1.txt','rt')\n",
    "filenum = np.array(file1)\n",
    "\n",
    "file1str = pd.Series(file1)\n",
    "print(file1str)\n",
    "file1str.str.split(expand=True)"
   ]
  },
  {
   "cell_type": "code",
   "execution_count": 10,
   "id": "2cf4551f",
   "metadata": {},
   "outputs": [],
   "source": [
    "file2 = spark.read.csv('C:/Users/koush/HSE/Research/WordCountHW/sample2.txt')\n",
    "file3 = spark.read.csv('C:/Users/koush/HSE/Research/WordCountHW/sample3.txt')"
   ]
  },
  {
   "cell_type": "code",
   "execution_count": 11,
   "id": "e5c6692b",
   "metadata": {},
   "outputs": [],
   "source": []
  },
  {
   "cell_type": "code",
   "execution_count": null,
   "id": "682bc481",
   "metadata": {},
   "outputs": [],
   "source": []
  }
 ],
 "metadata": {
  "kernelspec": {
   "display_name": "Python 3",
   "language": "python",
   "name": "python3"
  },
  "language_info": {
   "codemirror_mode": {
    "name": "ipython",
    "version": 3
   },
   "file_extension": ".py",
   "mimetype": "text/x-python",
   "name": "python",
   "nbconvert_exporter": "python",
   "pygments_lexer": "ipython3",
   "version": "3.8.8"
  }
 },
 "nbformat": 4,
 "nbformat_minor": 5
}
